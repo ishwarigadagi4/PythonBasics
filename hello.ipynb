{
 "cells": [
  {
   "cell_type": "code",
   "execution_count": 1,
   "metadata": {},
   "outputs": [
    {
     "name": "stdout",
     "output_type": "stream",
     "text": [
      "Hello\n",
      "8\n",
      "-1\n"
     ]
    }
   ],
   "source": [
    "print('Hello')\n",
    "\n",
    "lst = [-1,2,3,4,3,8,7,4]\n",
    "print(max(lst))\n",
    "print(min(lst))"
   ]
  },
  {
   "cell_type": "code",
   "execution_count": 22,
   "metadata": {},
   "outputs": [
    {
     "name": "stdout",
     "output_type": "stream",
     "text": [
      "<class 'int'>\n",
      "0\n"
     ]
    }
   ],
   "source": [
    "def fun(age = 0):\n",
    "    return (age * 365)\n",
    "\n",
    "x =int(input(\"Enter age\"))\n",
    "print(type(x))\n",
    "a = fun()\n",
    "print(a)"
   ]
  },
  {
   "cell_type": "code",
   "execution_count": 23,
   "metadata": {},
   "outputs": [
    {
     "name": "stdout",
     "output_type": "stream",
     "text": [
      "14.0\n"
     ]
    }
   ],
   "source": [
    "def fun1(base, height):\n",
    "    return (base*height)/2\n",
    "\n",
    "c=fun1(base = 7, height = 4)\n",
    "print(c)"
   ]
  },
  {
   "cell_type": "code",
   "execution_count": null,
   "metadata": {},
   "outputs": [
    {
     "name": "stdout",
     "output_type": "stream",
     "text": [
      "Not palindrome\n"
     ]
    }
   ],
   "source": [
    "def fun2(text):\n",
    "    # rtext = ''.join(reversed(text)) # Using Join method\n",
    "    rtext = text [::-1] # Using reverse method\n",
    "    if rtext == text:\n",
    "        print('entered string is palindrome')\n",
    "    else:\n",
    "        print('Not palindrome')\n",
    "b = input(\"Enter a string\")\n",
    "fun2(b)\n"
   ]
  },
  {
   "cell_type": "code",
   "execution_count": 1,
   "metadata": {},
   "outputs": [
    {
     "name": "stdout",
     "output_type": "stream",
     "text": [
      "[9, 2, 34, 42, 423, 2, 5, 3, 2, 1]\n"
     ]
    }
   ],
   "source": [
    "data = [1,2,3,5,2,423,42,34,2,9]\n",
    "\n",
    "print(data[::-1])"
   ]
  },
  {
   "cell_type": "code",
   "execution_count": 3,
   "metadata": {},
   "outputs": [
    {
     "name": "stdout",
     "output_type": "stream",
     "text": [
      "['sdd', 3.0, 4, 'c']\n",
      "<class 'list'>\n"
     ]
    }
   ],
   "source": [
    "s = ['sdd', 3.0, 4, 'c']\n",
    "print(s)\n",
    "print(type(s))"
   ]
  },
  {
   "cell_type": "code",
   "execution_count": null,
   "metadata": {},
   "outputs": [
    {
     "name": "stdout",
     "output_type": "stream",
     "text": [
      "78\n",
      "[8, 8, 12, 24, 56, 78]\n",
      "56\n"
     ]
    }
   ],
   "source": [
    "my_list = [12, 24, 56, 8, 78, 8]\n",
    "find_max = max(my_list)\n",
    "print(find_max)\n",
    "my_list.sort()\n",
    "print(my_list)\n",
    "print(my_list[-2])"
   ]
  },
  {
   "cell_type": "code",
   "execution_count": 8,
   "metadata": {},
   "outputs": [
    {
     "name": "stdout",
     "output_type": "stream",
     "text": [
      "{8, 12, 78, 24, 56}\n"
     ]
    }
   ],
   "source": [
    "list = [12, 24, 56, 8, 78, 78, 8]\n",
    "s = set(list)\n",
    "print(s)\n"
   ]
  },
  {
   "cell_type": "code",
   "execution_count": 7,
   "metadata": {},
   "outputs": [
    {
     "name": "stdout",
     "output_type": "stream",
     "text": [
      "list is empty\n"
     ]
    }
   ],
   "source": [
    "listt = []\n",
    "a = len(listt)\n",
    "if a>0:\n",
    "    print('list is not empty')\n",
    "else:\n",
    "    print('list is empty')"
   ]
  },
  {
   "cell_type": "code",
   "execution_count": null,
   "metadata": {},
   "outputs": [
    {
     "name": "stdout",
     "output_type": "stream",
     "text": [
      "14\n",
      "7\n",
      "1\n",
      "[1, 6, 7]\n",
      "6\n"
     ]
    }
   ],
   "source": [
    "l =[1, 7, 6]\n",
    "res = sum(l) #sum of list i.e.,l\n",
    "print(res)\n",
    "s =  max(l) #max number in given list\n",
    "print(s)\n",
    "c = min(l) #min number in given list\n",
    "print(c)\n",
    "l.sort() #to print  second largest in given list, need to sort first (it will sort in acseding order) then print\n",
    "print(l)\n",
    "second_largest = l[-2] #after sorting use the index number of second largest number\n",
    "print(second_largest)"
   ]
  },
  {
   "cell_type": "code",
   "execution_count": 1,
   "metadata": {},
   "outputs": [],
   "source": [
    "'''\n",
    "Indentation is of 4 spaces \n",
    "It is like curly braces as in C laguage\n",
    "It indicated the program is the part of that block \n",
    "It is used in if conditions, for, while loops functions\n",
    "\n",
    "'''\n",
    "def functionName() :\n",
    "    if 0 == 0:\n",
    "        print(\"0 == 0\")\n",
    "    else: \n",
    "        pass\n",
    "    \n"
   ]
  },
  {
   "cell_type": "code",
   "execution_count": 11,
   "metadata": {},
   "outputs": [
    {
     "name": "stdout",
     "output_type": "stream",
     "text": [
      "[12, 45, 45, 6, 67, 6]\n",
      "{67, 12, 45, 6}\n",
      "6\n",
      "list is not empty\n"
     ]
    }
   ],
   "source": [
    "lis = [12, 45, 45, 6, 67, 6] #To remove duplicates from list, first convert list into set and print set. (as set store only unique values not duplicate)\n",
    "print(lis)\n",
    "d = set(lis)\n",
    "print(d)\n",
    "f = len(lis) #printing list is not empty, to do that first find out length of list and use conditions to print\n",
    "print(f)\n",
    "if f > 0:\n",
    "    print(\"list is not empty\")\n",
    "else:\n",
    "    print(\"list  is empty\")"
   ]
  },
  {
   "cell_type": "code",
   "execution_count": 12,
   "metadata": {},
   "outputs": [
    {
     "name": "stdout",
     "output_type": "stream",
     "text": [
      "0\n",
      "list is not empty\n"
     ]
    }
   ],
   "source": [
    "k = [] #proving that list is empty\n",
    "g = len(k)\n",
    "print(g)\n",
    "if g > 0:\n",
    "    print(\"list is empty\")\n",
    "else:\n",
    "    print(\"list is not empty\")"
   ]
  },
  {
   "cell_type": "code",
   "execution_count": 13,
   "metadata": {},
   "outputs": [
    {
     "name": "stdout",
     "output_type": "stream",
     "text": [
      "[9, 3, 5, 4, 1]\n"
     ]
    }
   ],
   "source": [
    "#Reverse a list\n",
    "myList = [1, 4, 5, 3, 9]\n",
    "myList.reverse()\n",
    "print(myList)"
   ]
  },
  {
   "cell_type": "code",
   "execution_count": 31,
   "metadata": {},
   "outputs": [
    {
     "name": "stdout",
     "output_type": "stream",
     "text": [
      "sdfgh\n"
     ]
    }
   ],
   "source": [
    "st = \"hgfds\" [::-1]\n",
    "print(st)"
   ]
  },
  {
   "cell_type": "code",
   "execution_count": 30,
   "metadata": {},
   "outputs": [
    {
     "name": "stdout",
     "output_type": "stream",
     "text": [
      "Not polindrome :\n"
     ]
    }
   ],
   "source": [
    "def find_poli(t):\n",
    "    t=t.lower()\n",
    "    if (t ==t[::-1]):\n",
    "        print(\"Entered string is polindrome :\")\n",
    "    else:\n",
    "        print(\"Not polindrome :\")\n",
    "\n",
    "c = input(\"Enter a string : \")\n",
    "find_poli(c)\n"
   ]
  },
  {
   "cell_type": "code",
   "execution_count": 50,
   "metadata": {},
   "outputs": [
    {
     "name": "stdout",
     "output_type": "stream",
     "text": [
      "1\n",
      "2\n",
      "3\n",
      "6\n"
     ]
    }
   ],
   "source": [
    "#factorial\n",
    "k = int(input(\"Enter a number :\"))\n",
    "factorial=1\n",
    "for i in range(1, k+1):\n",
    "    factorial *=i\n",
    "    print(i)\n",
    "print(factorial)\n",
    "\n"
   ]
  },
  {
   "cell_type": "code",
   "execution_count": 54,
   "metadata": {},
   "outputs": [
    {
     "name": "stdout",
     "output_type": "stream",
     "text": [
      "10\n",
      "9\n",
      "8\n",
      "7\n",
      "6\n"
     ]
    }
   ],
   "source": [
    "for i in range(10,5,-1):\n",
    "    print(i)"
   ]
  },
  {
   "cell_type": "code",
   "execution_count": null,
   "metadata": {},
   "outputs": [
    {
     "ename": "UnboundLocalError",
     "evalue": "cannot access local variable 'i' where it is not associated with a value",
     "output_type": "error",
     "traceback": [
      "\u001b[1;31m---------------------------------------------------------------------------\u001b[0m",
      "\u001b[1;31mUnboundLocalError\u001b[0m                         Traceback (most recent call last)",
      "Cell \u001b[1;32mIn[57], line 12\u001b[0m\n\u001b[0;32m      9\u001b[0m         \u001b[38;5;28;01mif\u001b[39;00m i \u001b[38;5;241m>\u001b[39m \u001b[38;5;241m48\u001b[39m:\n\u001b[0;32m     10\u001b[0m             \u001b[38;5;28;01mreturn\u001b[39;00m\n\u001b[1;32m---> 12\u001b[0m \u001b[43mbatt_voltage\u001b[49m\u001b[43m(\u001b[49m\u001b[43m)\u001b[49m\n",
      "Cell \u001b[1;32mIn[57], line 5\u001b[0m, in \u001b[0;36mbatt_voltage\u001b[1;34m()\u001b[0m\n\u001b[0;32m      3\u001b[0m \u001b[38;5;28;01mdef\u001b[39;00m\u001b[38;5;250m \u001b[39m\u001b[38;5;21mbatt_voltage\u001b[39m():\n\u001b[0;32m      4\u001b[0m     vltg \u001b[38;5;241m=\u001b[39m \u001b[38;5;241m13\u001b[39m\n\u001b[1;32m----> 5\u001b[0m     \u001b[38;5;28;01mfor\u001b[39;00m i \u001b[38;5;129;01min\u001b[39;00m \u001b[38;5;28mrange\u001b[39m(\u001b[38;5;241m13\u001b[39m, \u001b[43mi\u001b[49m\u001b[38;5;241m+\u001b[39m\u001b[38;5;241m2\u001b[39m):\n\u001b[0;32m      6\u001b[0m         vltg \u001b[38;5;241m+\u001b[39m\u001b[38;5;241m=\u001b[39mi\n\u001b[0;32m      7\u001b[0m         time\u001b[38;5;241m.\u001b[39msleep(\u001b[38;5;241m1\u001b[39m)\n",
      "\u001b[1;31mUnboundLocalError\u001b[0m: cannot access local variable 'i' where it is not associated with a value"
     ]
    }
   ],
   "source": [
    "#write python script that voltage should increament by 2V every 1 sec\n",
    "import time\n",
    "def batt_voltage():\n",
    "    vltg = 13\n",
    "for i in range(13, i+2):\n",
    "    vltg +=i\n",
    "    time.sleep(1)\n",
    "    print(vltg)\n",
    "    if i > 48:\n",
    "            return\n",
    "    \n",
    "batt_voltage()"
   ]
  },
  {
   "cell_type": "code",
   "execution_count": null,
   "metadata": {},
   "outputs": [
    {
     "name": "stdout",
     "output_type": "stream",
     "text": [
      "Voltage:  12\n",
      "Voltage:  14\n",
      "Voltage:  16\n",
      "Voltage:  18\n",
      "Voltage:  20\n",
      "Voltage:  22\n",
      "Voltage:  24\n",
      "Voltage:  26\n",
      "Voltage:  28\n",
      "Voltage:  30\n",
      "Voltage:  32\n",
      "Voltage:  34\n",
      "Voltage:  36\n",
      "Voltage:  38\n",
      "Voltage:  40\n",
      "Voltage:  42\n",
      "Voltage:  44\n",
      "Voltage:  46\n",
      "Voltage:  48\n"
     ]
    }
   ],
   "source": [
    "import time\n",
    "def batt_voltage():\n",
    "    for i in range(12, 49, 2):\n",
    "        print(\"Voltage: \", i)\n",
    "        time.sleep(1)\n",
    "    \n",
    "batt_voltage()"
   ]
  },
  {
   "cell_type": "code",
   "execution_count": 73,
   "metadata": {},
   "outputs": [
    {
     "ename": "SyntaxError",
     "evalue": "expected ':' (2570853735.py, line 13)",
     "output_type": "error",
     "traceback": [
      "\u001b[1;36m  Cell \u001b[1;32mIn[73], line 13\u001b[1;36m\u001b[0m\n\u001b[1;33m    while()\u001b[0m\n\u001b[1;37m           ^\u001b[0m\n\u001b[1;31mSyntaxError\u001b[0m\u001b[1;31m:\u001b[0m expected ':'\n"
     ]
    }
   ],
   "source": [
    "# https://www.youtube.com/watch?v=qfmKvQ-8A-I\n",
    "# APS feature is on and it is parking the vehicle some object appears stop the vehicle if the object appears\n",
    "objects = 0\n",
    "\n",
    "VehicleSpeed = 0 # 0-25\n",
    "accelerator = 0 # 0% - 100% accelerator should not be presssed and breaks should be applied\n",
    "brake = 25 # 0% - 100%\n",
    "driverSeatbelt = True\n",
    "turnONapa=False\n",
    "\n",
    "def parking():\n",
    "    print(\"Parking\")\n",
    "    while()\n",
    "def APA_assit ():\n",
    "    # check preconditions\n",
    "    # Check if seat belt is fastned \n",
    "    if driverSeatbelt == False: #false == false so, if condition is true\n",
    "        print(\"Fasten the seatbelt\") \n",
    "        return\n",
    "    # Check speed \n",
    "    elif (VehicleSpeed != 0): # 8 !=0\n",
    "        print(\"Stop the vehicle\")\n",
    "        return\n",
    "    elif accelerator != 0: # 0 !=0\n",
    "        print(\"remove leg from accelerator\")\n",
    "        return\n",
    "    elif brake == 0: #25 == 0\n",
    "        print(\"breaks are not applied\")\n",
    "        return\n",
    "    turnONapa = True\n",
    "    \n",
    "    \n",
    "    \n",
    "    \n",
    "    \n",
    "APA_assit()\n"
   ]
  },
  {
   "cell_type": "code",
   "execution_count": null,
   "metadata": {},
   "outputs": [],
   "source": [
    "\n"
   ]
  },
  {
   "cell_type": "code",
   "execution_count": null,
   "metadata": {},
   "outputs": [],
   "source": []
  }
 ],
 "metadata": {
  "kernelspec": {
   "display_name": "Python 3",
   "language": "python",
   "name": "python3"
  },
  "language_info": {
   "codemirror_mode": {
    "name": "ipython",
    "version": 3
   },
   "file_extension": ".py",
   "mimetype": "text/x-python",
   "name": "python",
   "nbconvert_exporter": "python",
   "pygments_lexer": "ipython3",
   "version": "3.11.9"
  }
 },
 "nbformat": 4,
 "nbformat_minor": 2
}
