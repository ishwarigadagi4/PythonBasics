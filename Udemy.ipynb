{
 "cells": [
  {
   "cell_type": "code",
   "execution_count": 7,
   "id": "716275cb",
   "metadata": {},
   "outputs": [
    {
     "name": "stdout",
     "output_type": "stream",
     "text": [
      "10\n",
      "8\n",
      "9.0\n",
      "9\n",
      "4\n",
      "1\n",
      "1\n",
      "3\n",
      "4\n",
      "30\n",
      "8\n",
      "25\n",
      "0b101\n",
      "5\n"
     ]
    }
   ],
   "source": [
    "#Python course started - Udemy\n",
    "print(9 + 1)\n",
    "print(9 - 1)\n",
    "print(9 / 1)\n",
    "print(9 * 1)\n",
    "print(2 ** 2) #2 ^ 2\n",
    "print(5 // 4)\n",
    "print(5 % 4) #represents the remainder of the division \n",
    "\n",
    "#math functions\n",
    "print(round(3.1)) #round function return nearest interger value\n",
    "print(round(3.9))\n",
    "print(abs(-30))#abs function returns absolute value of an argument (no negative val)\n",
    "\n",
    "#operator precedence\n",
    "print(20 - 3 * 4) #first action will 3*4 = 12, so 20 - 12 = 8\n",
    "print((20 - 3) + 2 ** 3) #first (20 - 3) = 17 will calculates then 2 ** 3 = 6 so, (17 + 8) = 25\n",
    "'''\n",
    "Highest to lowest precedence\n",
    "1. ()\n",
    "2. **\n",
    "3. * and /\n",
    "4. + and - \n",
    "'''\n",
    "print(bin(5))\n",
    "print(int('0b101', 2))\n"
   ]
  },
  {
   "cell_type": "code",
   "execution_count": 9,
   "id": "6cc49b4e",
   "metadata": {},
   "outputs": [
    {
     "name": "stdout",
     "output_type": "stream",
     "text": [
      "int('9')) = 9\n",
      "int(9.9) = 9\n",
      "int(9) = 9\n",
      "int() on 0o12 = 10\n",
      "int() on 0b110 = 6\n",
      "int() on 0x1A = 26\n"
     ]
    }
   ],
   "source": [
    "# int() on string representation of numbers\n",
    "print(\"int('9')) =\", int('9'))\n",
    "\n",
    "# int() on float values\n",
    "print(\"int(9.9) =\", int(9.9))\n",
    "\n",
    "# int() on Python integer\n",
    "print(\"int(9) =\", int(9))\n",
    "\n",
    "# octal to decimal using int()\n",
    "print(\"int() on 0o12 =\", int('0o12', 8))\n",
    "\n",
    "# binary to decimal using int()\n",
    "print(\"int() on 0b110 =\", int('0b110', 2))\n",
    "\n",
    "# hexa-decimal to decimal using int()\n",
    "print(\"int() on 0x1A =\", int('0x1A', 16))"
   ]
  },
  {
   "cell_type": "code",
   "execution_count": 15,
   "id": "502a5cfd",
   "metadata": {},
   "outputs": [
    {
     "name": "stdout",
     "output_type": "stream",
     "text": [
      "20.0\n",
      "8\n",
      "6\n",
      "12\n"
     ]
    }
   ],
   "source": [
    "iq = 100\n",
    "user_age = iq / 5 #expression\n",
    "print(user_age)\n",
    "\n",
    "#augmented assignment operator\n",
    "some_val = 5\n",
    "some_val = some_val + 3 #so in augmented no need of doing this we can just e=write like \"some_val += 3\" it works\n",
    "\n",
    "print(some_val)\n",
    "\n",
    "some_val -= 2\n",
    "print(some_val)\n",
    "\n",
    "some_val *=2\n",
    "print(some_val)\n",
    "\n"
   ]
  },
  {
   "cell_type": "code",
   "execution_count": 26,
   "id": "9fb3c3f4",
   "metadata": {},
   "outputs": [
    {
     "name": "stdout",
     "output_type": "stream",
     "text": [
      "<class 'str'>\n",
      "ish\n",
      "\n",
      "Hi\n",
      "Hello\n",
      "Bye\n",
      "\n",
      "she he\n",
      "Hi hellow\n",
      "<class 'str'>\n",
      "<class 'int'>\n",
      "<class 'int'>\n"
     ]
    }
   ],
   "source": [
    "#Strings : str\n",
    "#string is a piece of text. \n",
    "#string should be written within single or double quotes.\n",
    "\n",
    "print(type(\" Hi  hello 2333!\"))\n",
    "name = \"ish\"\n",
    "long_string = '''\n",
    "Hi\n",
    "Hello\n",
    "Bye\n",
    "'''\n",
    "print(name)\n",
    "print(long_string)\n",
    "\n",
    "first_name = 'she'\n",
    "last_name =  'he'\n",
    "adding = first_name + ' ' + last_name\n",
    "print(adding)\n",
    "\n",
    "#String concatenation - Adding strings together  and String concatenation only works with string\n",
    "print('Hi' + ' hellow')\n",
    "\n",
    "#Type conversion\n",
    "print(type(str(100)))\n",
    "print(type(int(str(100))))\n",
    "\n",
    "a = str(100)\n",
    "b = int(a)\n",
    "c = type(b)\n",
    "print(c)"
   ]
  },
  {
   "cell_type": "code",
   "execution_count": 30,
   "id": "bbd8167e",
   "metadata": {},
   "outputs": [
    {
     "name": "stdout",
     "output_type": "stream",
     "text": [
      "It's a sunny\n",
      "It's \"kind of\" sunny\n",
      "\t It's \"kind of\" sunny \n",
      " have a good day\n"
     ]
    }
   ],
   "source": [
    "#Escape sequence\n",
    "#weather = 'It's a sunny' ----> this encounter the error so we can write like\n",
    "weather = \"It's a sunny\"\n",
    "print(weather)\n",
    "#also we can write like --\n",
    "weatherr = \"It\\'s \\\"kind of\\\" sunny\"\n",
    "print(weatherr)\n",
    "weathe = \"\\t It\\'s \\\"kind of\\\" sunny \\n have a good day\" #\\t for tab and \\n for new line or next line\n",
    "print(weathe)"
   ]
  },
  {
   "cell_type": "code",
   "execution_count": 41,
   "id": "7d7d6aa4",
   "metadata": {},
   "outputs": [
    {
     "name": "stdout",
     "output_type": "stream",
     "text": [
      "Hi man. You are28year old\n",
      "hi man. you are 28 years old\n",
      "hi man. you are 28 years old\n"
     ]
    }
   ],
   "source": [
    "#formatted strings\n",
    "name = \"man\"\n",
    "age = 28\n",
    "\n",
    "print('Hi ' + name + '. You are' + str(age) + 'year old')\n",
    "\n",
    "#in order to use the formatted string we can use 'f' in the begining\n",
    "print(f'hi {name}. you are {age} years old')\n",
    "\n",
    "#also we can write usinng .format\n",
    "print('hi {}. you are {} years old'.format('man', '28'))"
   ]
  },
  {
   "cell_type": "code",
   "execution_count": 62,
   "id": "cd08e183",
   "metadata": {},
   "outputs": [
    {
     "name": "stdout",
     "output_type": "stream",
     "text": [
      "me me m7\n",
      "m\n",
      " \n",
      "e\n",
      "me m\n",
      "m em\n",
      "e me m7\n",
      "me me \n",
      "7\n",
      "7m em em\n"
     ]
    }
   ],
   "source": [
    "#string indexing\n",
    "selfish = 'me me m7'\n",
    "          #01234567\n",
    "print(selfish)\n",
    "print(selfish[0])\n",
    "print(selfish[2])\n",
    "print(selfish[4])\n",
    "\n",
    "#[start : stop : stepover] - this is called string slicing\n",
    "print(selfish[0:4:1])\n",
    "print(selfish[0:7:2])\n",
    "print(selfish[1:])\n",
    "print(selfish[:6])\n",
    "print(selfish[-1])\n",
    "print(selfish[::-1])"
   ]
  },
  {
   "cell_type": "code",
   "execution_count": 64,
   "id": "126902d3",
   "metadata": {},
   "outputs": [
    {
     "name": "stdout",
     "output_type": "stream",
     "text": [
      "TO BE OR NOT TO BE\n",
      "To be or not to be\n"
     ]
    }
   ],
   "source": [
    "#built in funnctions and  methods\n",
    "quote = 'to be or not to be'\n",
    "print(quote.upper()) #converts all letters lower case into upper \n",
    "print(quote.capitalize()) #it will make first letter to upper case"
   ]
  },
  {
   "cell_type": "code",
   "execution_count": 66,
   "id": "1281cc9c",
   "metadata": {},
   "outputs": [
    {
     "name": "stdout",
     "output_type": "stream",
     "text": [
      "True\n",
      "False\n"
     ]
    }
   ],
   "source": [
    "#boolens - true (1) or false(0)\n",
    "name = \"meee\"\n",
    "is_cool = False\n",
    "is_cool = True\n",
    "print(bool(1))\n",
    "print(bool(0))\n"
   ]
  },
  {
   "cell_type": "code",
   "execution_count": 67,
   "id": "8276abad",
   "metadata": {},
   "outputs": [
    {
     "name": "stdout",
     "output_type": "stream",
     "text": [
      "you ahe is : 26\n"
     ]
    }
   ],
   "source": [
    "birth_year  = int(input('what year were you born?'))\n",
    "age = 2025 - birth_year\n",
    "print(f'you ahe is : {age}')\n"
   ]
  },
  {
   "cell_type": "code",
   "execution_count": 68,
   "id": "3c26c1d0",
   "metadata": {},
   "outputs": [],
   "source": [
    "for i in range(5, 5):\n",
    "    print(i)"
   ]
  },
  {
   "cell_type": "code",
   "execution_count": 70,
   "id": "d4ba2101",
   "metadata": {},
   "outputs": [
    {
     "name": "stdout",
     "output_type": "stream",
     "text": [
      "User name is ishwari, password is ******* and password is of 7 of letters\n"
     ]
    }
   ],
   "source": [
    "user_name = input(\"Enter the user name : \")\n",
    "password = input(\"Enter the password : \")\n",
    "\n",
    "password = len(password)\n",
    "hidden_password = '*' * password\n",
    "\n",
    "print(f'User name is {user_name}, password is {hidden_password} and password is of {password} of letters')"
   ]
  },
  {
   "cell_type": "code",
   "execution_count": 73,
   "id": "b51d9e5f",
   "metadata": {},
   "outputs": [
    {
     "name": "stdout",
     "output_type": "stream",
     "text": [
      "1250.0\n",
      "7\n"
     ]
    }
   ],
   "source": [
    "result = 100/0.5\n",
    "result += 100\n",
    "result -= 50\n",
    "result *=5\n",
    "print(result)\n",
    "x = int(7.9)\n",
    "print(x)\n"
   ]
  },
  {
   "cell_type": "code",
   "execution_count": 75,
   "id": "f0652c86",
   "metadata": {},
   "outputs": [
    {
     "name": "stdout",
     "output_type": "stream",
     "text": [
      "3\n"
     ]
    }
   ],
   "source": [
    "#Matrix - It is a way to decribe 2D lists or multi dimentional lists\n",
    "matrix = [  #it's a 2D array matrix\n",
    "    [1,2,3],\n",
    "    [4,5,6],\n",
    "    [7,8,9]\n",
    "]\n",
    "\n",
    "#how to access elements \n",
    "print(matrix[0][2]) #here [0]is index number 0 i.e., [1,2,3] and [2] is index number inside [1,2,3]"
   ]
  },
  {
   "cell_type": "code",
   "execution_count": 89,
   "id": "f4e8ceea",
   "metadata": {},
   "outputs": [
    {
     "name": "stdout",
     "output_type": "stream",
     "text": [
      "6\n",
      "[1, 2, 3, 4, 5, 6, 100]\n",
      "[34, 1, 2, 3, 4, 5, 6, 100]\n",
      "[34, 1, 2, 3, 4, 5, 6]\n",
      "[1, 2, 3, 4, 5, 6]\n",
      "[1, 2, 3, 4, 5, 6, 101]\n",
      "[]\n"
     ]
    }
   ],
   "source": [
    "#list methods \n",
    "basket = [1,2,3,4,5,6]\n",
    "print(len(basket))\n",
    "\n",
    "#adding\n",
    "basket.append(100)  #this append() method will add element at the end of list\n",
    "print(basket)\n",
    "\n",
    "basket.insert(0, 34) #this insert() method will take input of index number and number or element to be add into list\n",
    "print(basket)\n",
    "\n",
    "#removing\n",
    "basket.pop() #Removes the last element from the list\n",
    "print(basket)\n",
    "\n",
    "basket.remove(34) #This will take directly the value from user to remove\n",
    "print(basket)\n",
    "\n",
    "#extend\n",
    "basket.extend([101])\n",
    "print(basket)\n",
    "\n",
    "#clear\n",
    "basket.clear()\n",
    "print(basket)"
   ]
  },
  {
   "cell_type": "code",
   "execution_count": 110,
   "id": "3ab6a827",
   "metadata": {},
   "outputs": [
    {
     "name": "stdout",
     "output_type": "stream",
     "text": [
      "7\n",
      "1\n",
      "True\n",
      "False\n",
      "True\n",
      "2\n",
      "['a', 'b', 'c', 'd', 'e', 'g', 'g']\n",
      "['a', 'b', 'c', 'd', 'e', 'g', 'g']\n",
      "['g', 'g', 'e', 'd', 'c', 'b', 'a']\n"
     ]
    }
   ],
   "source": [
    "#list methods \n",
    "basket = ['a','b','d','e','c','g','g']\n",
    "print(len(basket))\n",
    "\n",
    "#index\n",
    "print(basket.index('b')) #This will print the value b is at index of 1 in a list\n",
    "\n",
    "#Key word 'in'\n",
    "print('d' in basket) #returns boolean value\n",
    "print('h' in basket)\n",
    "print('i' in 'Hi i am in') #it prints true bcz 'i' the present in 'Hi i am in'\n",
    "\n",
    "#count - it returns the number of times the value/element in the list\n",
    "print(basket.count('g')) #the letter 'g' is two times appears in the list basket\n",
    "\n",
    "#Sort - This will sort the elements in the list, it will return in ascending order\n",
    "basket.sort()\n",
    "print(basket)\n",
    "\n",
    "#copy() methos - copies list into new_list\n",
    "new_list = basket.copy()\n",
    "print(new_list)\n",
    "\n",
    "#Reverse() method\n",
    "'''basket.reverse()\n",
    "print(basket) '''\n",
    "\n",
    "#Revers using list slicing\n",
    "print(basket[::-1])"
   ]
  },
  {
   "cell_type": "code",
   "execution_count": 117,
   "id": "5d168fe9",
   "metadata": {},
   "outputs": [
    {
     "name": "stdout",
     "output_type": "stream",
     "text": [
      "range(1, 100)\n",
      "[1, 2, 3, 4, 5, 6, 7, 8, 9, 10, 11, 12, 13, 14, 15, 16, 17, 18, 19, 20, 21, 22, 23, 24, 25, 26, 27, 28, 29, 30, 31, 32, 33, 34, 35, 36, 37, 38, 39, 40, 41, 42, 43, 44, 45, 46, 47, 48, 49, 50, 51, 52, 53, 54, 55, 56, 57, 58, 59, 60, 61, 62, 63, 64, 65, 66, 67, 68, 69, 70, 71, 72, 73, 74, 75, 76, 77, 78, 79, 80, 81, 82, 83, 84, 85, 86, 87, 88, 89, 90, 91, 92, 93, 94, 95, 96, 97, 98, 99]\n",
      "[0, 1, 2, 3, 4, 5, 6, 7, 8, 9, 10, 11, 12, 13, 14, 15, 16, 17, 18, 19, 20, 21, 22, 23, 24, 25, 26, 27, 28, 29, 30, 31, 32, 33, 34, 35, 36, 37, 38, 39, 40, 41, 42, 43, 44, 45, 46, 47, 48, 49, 50, 51, 52, 53, 54, 55, 56, 57, 58, 59, 60, 61, 62, 63, 64, 65, 66, 67, 68, 69, 70, 71, 72, 73, 74, 75, 76, 77, 78, 79, 80, 81, 82, 83, 84, 85, 86, 87, 88, 89, 90, 91, 92, 93, 94, 95, 96, 97, 98, 99, 100]\n",
      "Hi hello bye\n"
     ]
    }
   ],
   "source": [
    "#Generating list using range(start, stop)\n",
    "print(range(1, 100))\n",
    "print(list(range(1, 100)))\n",
    "print(list(range(101)))\n",
    "\n",
    "#join()\n",
    "sentance = ' '\n",
    "new_sentance = sentance.join(['Hi', 'hello', 'bye'])\n",
    "print(new_sentance)\n"
   ]
  },
  {
   "cell_type": "code",
   "execution_count": 119,
   "id": "3b96a7ab",
   "metadata": {},
   "outputs": [
    {
     "name": "stdout",
     "output_type": "stream",
     "text": [
      "1\n",
      "2\n",
      "3\n",
      "[4, 5, 6, 7, 8]\n"
     ]
    }
   ],
   "source": [
    "#List unpacking\n",
    "a,b,c, *other= [1,2,3,4,5,6,7,8]\n",
    "print(a)\n",
    "print(b)\n",
    "print(c)\n",
    "print(other)"
   ]
  },
  {
   "cell_type": "code",
   "execution_count": 138,
   "id": "53884962",
   "metadata": {},
   "outputs": [
    {
     "name": "stdout",
     "output_type": "stream",
     "text": [
      "{'s': 2, 'r': 6}\n",
      "2\n",
      "{'f': [2, 6, 7], 'k': 'hiii', 'j': True}\n",
      "6\n",
      "55\n",
      "{'name': 'Mame'}\n",
      "True\n",
      "False\n",
      "True\n",
      "dict_items([('basket', [1, 2, 3]), ('greet', 'hello')])\n"
     ]
    }
   ],
   "source": [
    "#Dictionary\n",
    "dictionary = {\n",
    "    's' : 2,\n",
    "    'r': 6\n",
    "}\n",
    "print(dictionary)\n",
    "print(dictionary['s'])\n",
    "\n",
    "dic ={\n",
    "        'f':[2,6,7],\n",
    "    'k': \"hiii\",\n",
    "    'j': True\n",
    "}\n",
    "print(dic)\n",
    "print(dic['f'][1])\n",
    "\n",
    "#dictionary methods\n",
    "user = {\n",
    "    'basket' : [1,2,3],\n",
    "    'greet' : 'hello'\n",
    "}\n",
    "\n",
    "print(user.get('age', 55)) #.get() is method on the object or dictionary in python\n",
    "\n",
    "#creating dictionary using dict keyword\n",
    "user2 = dict(name ='Mame')\n",
    "print(user2)\n",
    "\n",
    "print('basket' in user)\n",
    "print('size' in user)\n",
    "\n",
    "print('hello' in user.values())\n",
    "\n",
    "print(user.items())\n",
    "\n",
    "\n"
   ]
  },
  {
   "cell_type": "code",
   "execution_count": 1,
   "id": "c772fc2b",
   "metadata": {},
   "outputs": [
    {
     "name": "stdout",
     "output_type": "stream",
     "text": [
      "b is greater\n"
     ]
    }
   ],
   "source": [
    "a = 33\n",
    "b = 200\n",
    "\n",
    "if b>a:\n",
    "  print(\"b is greater\")"
   ]
  },
  {
   "cell_type": "code",
   "execution_count": 2,
   "id": "616da3a9",
   "metadata": {},
   "outputs": [
    {
     "ename": "ZeroDivisionError",
     "evalue": "division by zero",
     "output_type": "error",
     "traceback": [
      "\u001b[1;31m---------------------------------------------------------------------------\u001b[0m",
      "\u001b[1;31mZeroDivisionError\u001b[0m                         Traceback (most recent call last)",
      "Cell \u001b[1;32mIn[2], line 1\u001b[0m\n\u001b[1;32m----> 1\u001b[0m \u001b[38;5;28mprint\u001b[39m(\u001b[38;5;241;43m1\u001b[39;49m\u001b[38;5;241;43m/\u001b[39;49m\u001b[38;5;241;43m0\u001b[39;49m)\n",
      "\u001b[1;31mZeroDivisionError\u001b[0m: division by zero"
     ]
    }
   ],
   "source": [
    "print(1/0)"
   ]
  },
  {
   "cell_type": "code",
   "execution_count": null,
   "id": "edec042e",
   "metadata": {},
   "outputs": [],
   "source": []
  }
 ],
 "metadata": {
  "kernelspec": {
   "display_name": "Python 3",
   "language": "python",
   "name": "python3"
  },
  "language_info": {
   "codemirror_mode": {
    "name": "ipython",
    "version": 3
   },
   "file_extension": ".py",
   "mimetype": "text/x-python",
   "name": "python",
   "nbconvert_exporter": "python",
   "pygments_lexer": "ipython3",
   "version": "3.11.9"
  }
 },
 "nbformat": 4,
 "nbformat_minor": 5
}
